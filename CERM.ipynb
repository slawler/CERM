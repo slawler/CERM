{
 "cells": [
  {
   "cell_type": "markdown",
   "metadata": {},
   "source": [
    "## Create Data Maps from NYSDEC Permit Applications"
   ]
  },
  {
   "cell_type": "code",
   "execution_count": 1,
   "metadata": {
    "collapsed": true
   },
   "outputs": [],
   "source": [
    "from GeoCodes import *\n",
    "% matplotlib notebook"
   ]
  },
  {
   "cell_type": "code",
   "execution_count": 2,
   "metadata": {
    "collapsed": false
   },
   "outputs": [],
   "source": [
    "#---Read in data to begin analysis\n",
    "\n",
    "#---Permit data\n",
    "f = r'/home/slawler/Desktop/RiskFactorData/permits/permit_intersect.txt'\n",
    "data = pd.read_csv(f, sep = ',')\n",
    "\n",
    "#---Flow data\n",
    "f_flow = r'/home/slawler/Desktop/RiskFactorData/flows/B_NormalFlows_int.txt'\n",
    "flow_data = pd.read_csv(f_flow, sep = '\\t')\n",
    "\n",
    "huc12 = r'/home/slawler/Desktop/RiskFactorData/hucs_bridges.txt'\n",
    "huc12_data = pd.read_csv(huc12, sep = '\\t')"
   ]
  },
  {
   "cell_type": "code",
   "execution_count": 3,
   "metadata": {
    "collapsed": false
   },
   "outputs": [],
   "source": [
    "#-- Count Permits by type from list:\n",
    "'''\n",
    "DA = Dams and Impoundments; \n",
    "DO = Docks and Moorings; \n",
    "EF = Excavation and Fill in Navigable Waters; \n",
    "SD = Stream Disturbance of Protected Stream; \n",
    "WQ = Water Quality Certification\n",
    "'''\n",
    "\n",
    "p_types = data['DEC_Jurisd'].unique()\n",
    "p_total = 0 #--Added as a check to make sure the numbers make sense \n",
    "\n",
    "for p in p_types:\n",
    "    permits = (data['DEC_Jurisd']== p).sum()\n",
    "    #print(p, permits)\n",
    "    p_total += permits\n",
    "\n",
    "#print('\\nTotal Permits = ', p_total)"
   ]
  },
  {
   "cell_type": "code",
   "execution_count": 4,
   "metadata": {
    "collapsed": false
   },
   "outputs": [
    {
     "name": "stdout",
     "output_type": "stream",
     "text": [
      "Stream Disturbance of Protected Stream:  20133 records 19108 Projects\n"
     ]
    }
   ],
   "source": [
    "#--Select subset of permits: Stream Disturbance only\n",
    "\n",
    "df_SD = data[data['DEC_Jurisd']== 'SD']\n",
    "\n",
    "#--Get a count of permits by 'Project' (Batch_Numb field) \n",
    "b_types = df_SD['Batch_Numb'].unique() \n",
    "\n",
    "print('Stream Disturbance of Protected Stream: ', len(df_SD), 'records', len(b_types),'Projects')"
   ]
  },
  {
   "cell_type": "code",
   "execution_count": 5,
   "metadata": {
    "collapsed": false
   },
   "outputs": [
    {
     "name": "stdout",
     "output_type": "stream",
     "text": [
      "Stream Disturbance of Protected Stream:  1235 HUCs 19108 Projects\n"
     ]
    }
   ],
   "source": [
    "#-- Get a count of permits by 'HUC 12'\n",
    "\n",
    "df_HUC = df_SD.groupby('HUC_12').count()\n",
    "\n",
    "b_types = df_SD['Batch_Numb'].unique()\n",
    "\n",
    "#-- Rank the HUC 12's by number of permits \n",
    "\n",
    "df_HUC_sorted = df_HUC.sort_values(by = ['Batch_Numb'], ascending=False)\n",
    "\n",
    "print('Stream Disturbance of Protected Stream: ', len(df_HUC), 'HUCs', len(b_types),'Projects')"
   ]
  },
  {
   "cell_type": "code",
   "execution_count": 6,
   "metadata": {
    "collapsed": false
   },
   "outputs": [
    {
     "data": {
      "text/html": [
       "<div>\n",
       "<table border=\"1\" class=\"dataframe\">\n",
       "  <thead>\n",
       "    <tr style=\"text-align: right;\">\n",
       "      <th></th>\n",
       "      <th>x</th>\n",
       "      <th>y</th>\n",
       "      <th>Short_Proj</th>\n",
       "      <th>owner</th>\n",
       "    </tr>\n",
       "  </thead>\n",
       "  <tbody>\n",
       "    <tr>\n",
       "      <th>0</th>\n",
       "      <td>-73.659185</td>\n",
       "      <td>40.990066</td>\n",
       "      <td>Seawall replacement</td>\n",
       "      <td>PORT CHESTER, VILLAGE OF</td>\n",
       "    </tr>\n",
       "    <tr>\n",
       "      <th>1</th>\n",
       "      <td>-73.659185</td>\n",
       "      <td>40.990066</td>\n",
       "      <td>Seawall replacement</td>\n",
       "      <td>MUTO*SALVATORE</td>\n",
       "    </tr>\n",
       "  </tbody>\n",
       "</table>\n",
       "</div>"
      ],
      "text/plain": [
       "           x          y           Short_Proj                     owner\n",
       "0 -73.659185  40.990066  Seawall replacement  PORT CHESTER, VILLAGE OF\n",
       "1 -73.659185  40.990066  Seawall replacement            MUTO*SALVATORE"
      ]
     },
     "execution_count": 6,
     "metadata": {},
     "output_type": "execute_result"
    }
   ],
   "source": [
    "# Select fields from the Permit dataset to include in a map\n",
    "\n",
    "usecols = ['x','y','Short_Proj','owner'] #--all columns after x,y used in map's Pop-up\n",
    "\n",
    "data_popup = usecols[2:len(usecols)] \n",
    "\n",
    "data[usecols].head(2)"
   ]
  },
  {
   "cell_type": "code",
   "execution_count": 7,
   "metadata": {
    "collapsed": false
   },
   "outputs": [
    {
     "data": {
      "text/html": [
       "<div>\n",
       "<table border=\"1\" class=\"dataframe\">\n",
       "  <thead>\n",
       "    <tr style=\"text-align: right;\">\n",
       "      <th></th>\n",
       "      <th>HUC_12</th>\n",
       "      <th>HU_12_NAME</th>\n",
       "      <th>BIN</th>\n",
       "      <th>CROSSED</th>\n",
       "      <th>y</th>\n",
       "      <th>x</th>\n",
       "    </tr>\n",
       "  </thead>\n",
       "  <tbody>\n",
       "    <tr>\n",
       "      <th>0</th>\n",
       "      <td>20301030204</td>\n",
       "      <td>Middle Ramapo River</td>\n",
       "      <td>3346140</td>\n",
       "      <td>RAMAPO RIVER</td>\n",
       "      <td>41.125047</td>\n",
       "      <td>-74.164490</td>\n",
       "    </tr>\n",
       "    <tr>\n",
       "      <th>1</th>\n",
       "      <td>20301030204</td>\n",
       "      <td>Middle Ramapo River</td>\n",
       "      <td>1027590</td>\n",
       "      <td>RAMAPO RIVER</td>\n",
       "      <td>41.132272</td>\n",
       "      <td>-74.167019</td>\n",
       "    </tr>\n",
       "    <tr>\n",
       "      <th>2</th>\n",
       "      <td>20301030204</td>\n",
       "      <td>Middle Ramapo River</td>\n",
       "      <td>2346230</td>\n",
       "      <td>RAMAPO RIVER</td>\n",
       "      <td>41.140479</td>\n",
       "      <td>-74.168398</td>\n",
       "    </tr>\n",
       "    <tr>\n",
       "      <th>3</th>\n",
       "      <td>11000060403</td>\n",
       "      <td>Byram River</td>\n",
       "      <td>1091459</td>\n",
       "      <td>BYRAM RIVER</td>\n",
       "      <td>41.136756</td>\n",
       "      <td>-73.701354</td>\n",
       "    </tr>\n",
       "    <tr>\n",
       "      <th>4</th>\n",
       "      <td>20301030102</td>\n",
       "      <td>Ringwood River</td>\n",
       "      <td>3345050</td>\n",
       "      <td>RINGWOOD RIVER</td>\n",
       "      <td>41.152594</td>\n",
       "      <td>-74.240056</td>\n",
       "    </tr>\n",
       "  </tbody>\n",
       "</table>\n",
       "</div>"
      ],
      "text/plain": [
       "        HUC_12           HU_12_NAME      BIN         CROSSED          y  \\\n",
       "0  20301030204  Middle Ramapo River  3346140    RAMAPO RIVER  41.125047   \n",
       "1  20301030204  Middle Ramapo River  1027590    RAMAPO RIVER  41.132272   \n",
       "2  20301030204  Middle Ramapo River  2346230    RAMAPO RIVER  41.140479   \n",
       "3  11000060403          Byram River  1091459     BYRAM RIVER  41.136756   \n",
       "4  20301030102       Ringwood River  3345050  RINGWOOD RIVER  41.152594   \n",
       "\n",
       "           x  \n",
       "0 -74.164490  \n",
       "1 -74.167019  \n",
       "2 -74.168398  \n",
       "3 -73.701354  \n",
       "4 -74.240056  "
      ]
     },
     "execution_count": 7,
     "metadata": {},
     "output_type": "execute_result"
    }
   ],
   "source": [
    "#-- Merge datasets\n",
    "\n",
    "flow_data[['BIN']] = flow_data[['BIN']].astype(str)\n",
    "huc12_data[['BIN']] = huc12_data[['BIN']].astype(str)\n",
    "\n",
    "df_total = pd.merge(flow_data,huc12_data, on = 'BIN', how = 'outer')\n",
    "df_total.head()\n",
    "flow_data.head()\n",
    "huc12_data.head()\n",
    "#df_total.head(2)"
   ]
  },
  {
   "cell_type": "code",
   "execution_count": 8,
   "metadata": {
    "collapsed": false
   },
   "outputs": [
    {
     "data": {
      "text/html": [
       "<div>\n",
       "<table border=\"1\" class=\"dataframe\">\n",
       "  <thead>\n",
       "    <tr style=\"text-align: right;\">\n",
       "      <th></th>\n",
       "      <th>x</th>\n",
       "      <th>y</th>\n",
       "      <th>BIN</th>\n",
       "      <th>Q100</th>\n",
       "      <th>HUC_12</th>\n",
       "    </tr>\n",
       "  </thead>\n",
       "  <tbody>\n",
       "    <tr>\n",
       "      <th>0</th>\n",
       "      <td>-73.696498</td>\n",
       "      <td>42.704323</td>\n",
       "      <td>1000160</td>\n",
       "      <td>2830.0</td>\n",
       "      <td>2.020006e+10</td>\n",
       "    </tr>\n",
       "    <tr>\n",
       "      <th>1</th>\n",
       "      <td>-73.631403</td>\n",
       "      <td>42.732831</td>\n",
       "      <td>1000190</td>\n",
       "      <td>19.0</td>\n",
       "      <td>2.020006e+10</td>\n",
       "    </tr>\n",
       "  </tbody>\n",
       "</table>\n",
       "</div>"
      ],
      "text/plain": [
       "           x          y      BIN    Q100        HUC_12\n",
       "0 -73.696498  42.704323  1000160  2830.0  2.020006e+10\n",
       "1 -73.631403  42.732831  1000190    19.0  2.020006e+10"
      ]
     },
     "execution_count": 8,
     "metadata": {},
     "output_type": "execute_result"
    }
   ],
   "source": [
    "# Select fields from the Permit dataset to include in a map\n",
    "\n",
    "usecols2 = ['x','y','BIN','Q100', 'HUC_12'] #--all columns after x,y used in map's Pop-up\n",
    "\n",
    "data_popup2 = usecols2[2:len(usecols2)] \n",
    "\n",
    "df_total[usecols2].head(2)"
   ]
  },
  {
   "cell_type": "code",
   "execution_count": 9,
   "metadata": {
    "collapsed": false
   },
   "outputs": [
    {
     "name": "stdout",
     "output_type": "stream",
     "text": [
      "File Created:  /home/slawler/Desktop/RiskFactorData/analysis/HUC_12_20200060905.html\n"
     ]
    }
   ],
   "source": [
    "field = 'HUC_12'\n",
    "\n",
    "\n",
    "mapdir = '/home/slawler/Desktop/RiskFactorData/analysis'\n",
    "scriptdir = '/home/slawler/Desktop/RiskFactorData/scripts'\n",
    "\n",
    "item = 20200060905\n",
    "\n",
    "\n",
    "df = data.loc[data[field] == item]\n",
    "df2 = df_total.loc[df_total[field] == item]\n",
    "xbar = df['x'].mean()\n",
    "ybar = df['y'].mean()\n",
    "geoj =df_to_geojson(df, data_popup, lat= 'y', lon='x')\n",
    "geoj2 =df_to_geojson(df2, data_popup2, lat= 'y', lon='x')\n",
    "\n",
    "newmap = os.path.join(mapdir,'{}_{}.html'.format(field,str(item)))\n",
    "map_template = os.path.join(scriptdir,'map_template.html')\n",
    "\n",
    "mapit(newmap,geoj,geoj2,xbar,ybar,map_template)"
   ]
  }
 ],
 "metadata": {
  "anaconda-cloud": {},
  "kernelspec": {
   "display_name": "Python [conda root]",
   "language": "python",
   "name": "conda-root-py"
  },
  "language_info": {
   "codemirror_mode": {
    "name": "ipython",
    "version": 3
   },
   "file_extension": ".py",
   "mimetype": "text/x-python",
   "name": "python",
   "nbconvert_exporter": "python",
   "pygments_lexer": "ipython3",
   "version": "3.5.2"
  }
 },
 "nbformat": 4,
 "nbformat_minor": 1
}
